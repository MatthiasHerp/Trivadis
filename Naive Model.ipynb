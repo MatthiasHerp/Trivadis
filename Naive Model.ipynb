{
 "cells": [
  {
   "cell_type": "code",
   "execution_count": 13,
   "metadata": {},
   "outputs": [],
   "source": [
    "import numpy as np\n",
    "import pandas as pd #data wrangeling\n",
    "import statsmodels.api as sm\n",
    "import matplotlib\n",
    "import matplotlib.pyplot as plt\n",
    "import os #for setting the working drectory"
   ]
  },
  {
   "cell_type": "code",
   "execution_count": 14,
   "metadata": {},
   "outputs": [],
   "source": [
    "#Importing evaluation metrics\n",
    "from sklearn.metrics import mean_squared_error, mean_absolute_error, r2_score"
   ]
  },
  {
   "cell_type": "code",
   "execution_count": 15,
   "metadata": {},
   "outputs": [],
   "source": [
    "#defining the evaluation metrics\n",
    "#from: https://mlflow.org/docs/latest/tutorials-and-examples/tutorial.html\n",
    "def eval_metrics(actual, pred):\n",
    "    rmse = np.sqrt(mean_squared_error(actual, pred))\n",
    "    mae = mean_absolute_error(actual, pred)\n",
    "    r2 = r2_score(actual, pred)\n",
    "    return rmse, mae, r2"
   ]
  },
  {
   "cell_type": "code",
   "execution_count": 16,
   "metadata": {},
   "outputs": [
    {
     "data": {
      "text/plain": [
       "'C:\\\\Users\\\\mah\\\\Desktop\\\\M5_Wallmart_Challenge'"
      ]
     },
     "execution_count": 16,
     "metadata": {},
     "output_type": "execute_result"
    }
   ],
   "source": [
    "#setting working directory\n",
    "os.chdir(\"C:/Users/mah/Desktop/M5_Wallmart_Challenge\")\n",
    "os.getcwd()"
   ]
  },
  {
   "cell_type": "code",
   "execution_count": 17,
   "metadata": {},
   "outputs": [],
   "source": [
    "#reading in the revenue_CA_1_FOODS_day time series csv\n",
    "revenue_CA_1_FOODS_day = pd.read_csv(\"revenue_CA_1_FOODS_day.csv\", index_col='date')\n",
    "#setting the index which was saved as a row back as the index"
   ]
  },
  {
   "cell_type": "code",
   "execution_count": 18,
   "metadata": {},
   "outputs": [],
   "source": [
    "#revenue_CA_1_FOODS_day.index=pd.to_datetime(revenue_CA_1_FOODS_day.index)"
   ]
  },
  {
   "cell_type": "code",
   "execution_count": 19,
   "metadata": {
    "scrolled": true
   },
   "outputs": [
    {
     "data": {
      "text/html": [
       "<div>\n",
       "<style scoped>\n",
       "    .dataframe tbody tr th:only-of-type {\n",
       "        vertical-align: middle;\n",
       "    }\n",
       "\n",
       "    .dataframe tbody tr th {\n",
       "        vertical-align: top;\n",
       "    }\n",
       "\n",
       "    .dataframe thead th {\n",
       "        text-align: right;\n",
       "    }\n",
       "</style>\n",
       "<table border=\"1\" class=\"dataframe\">\n",
       "  <thead>\n",
       "    <tr style=\"text-align: right;\">\n",
       "      <th></th>\n",
       "      <th>revenue</th>\n",
       "    </tr>\n",
       "    <tr>\n",
       "      <th>date</th>\n",
       "      <th></th>\n",
       "    </tr>\n",
       "  </thead>\n",
       "  <tbody>\n",
       "    <tr>\n",
       "      <th>2011-01-29</th>\n",
       "      <td>7240.65</td>\n",
       "    </tr>\n",
       "    <tr>\n",
       "      <th>2011-01-30</th>\n",
       "      <td>6705.51</td>\n",
       "    </tr>\n",
       "    <tr>\n",
       "      <th>2011-01-31</th>\n",
       "      <td>4584.85</td>\n",
       "    </tr>\n",
       "    <tr>\n",
       "      <th>2011-02-01</th>\n",
       "      <td>4965.46</td>\n",
       "    </tr>\n",
       "    <tr>\n",
       "      <th>2011-02-02</th>\n",
       "      <td>4368.07</td>\n",
       "    </tr>\n",
       "    <tr>\n",
       "      <th>...</th>\n",
       "      <td>...</td>\n",
       "    </tr>\n",
       "    <tr>\n",
       "      <th>2016-04-20</th>\n",
       "      <td>6938.53</td>\n",
       "    </tr>\n",
       "    <tr>\n",
       "      <th>2016-04-21</th>\n",
       "      <td>6824.21</td>\n",
       "    </tr>\n",
       "    <tr>\n",
       "      <th>2016-04-22</th>\n",
       "      <td>8226.64</td>\n",
       "    </tr>\n",
       "    <tr>\n",
       "      <th>2016-04-23</th>\n",
       "      <td>10037.58</td>\n",
       "    </tr>\n",
       "    <tr>\n",
       "      <th>2016-04-24</th>\n",
       "      <td>11229.93</td>\n",
       "    </tr>\n",
       "  </tbody>\n",
       "</table>\n",
       "<p>1913 rows × 1 columns</p>\n",
       "</div>"
      ],
      "text/plain": [
       "             revenue\n",
       "date                \n",
       "2011-01-29   7240.65\n",
       "2011-01-30   6705.51\n",
       "2011-01-31   4584.85\n",
       "2011-02-01   4965.46\n",
       "2011-02-02   4368.07\n",
       "...              ...\n",
       "2016-04-20   6938.53\n",
       "2016-04-21   6824.21\n",
       "2016-04-22   8226.64\n",
       "2016-04-23  10037.58\n",
       "2016-04-24  11229.93\n",
       "\n",
       "[1913 rows x 1 columns]"
      ]
     },
     "execution_count": 19,
     "metadata": {},
     "output_type": "execute_result"
    }
   ],
   "source": [
    "revenue_CA_1_FOODS_day"
   ]
  },
  {
   "cell_type": "code",
   "execution_count": 20,
   "metadata": {},
   "outputs": [
    {
     "data": {
      "text/html": [
       "<div>\n",
       "<style scoped>\n",
       "    .dataframe tbody tr th:only-of-type {\n",
       "        vertical-align: middle;\n",
       "    }\n",
       "\n",
       "    .dataframe tbody tr th {\n",
       "        vertical-align: top;\n",
       "    }\n",
       "\n",
       "    .dataframe thead th {\n",
       "        text-align: right;\n",
       "    }\n",
       "</style>\n",
       "<table border=\"1\" class=\"dataframe\">\n",
       "  <thead>\n",
       "    <tr style=\"text-align: right;\">\n",
       "      <th></th>\n",
       "      <th>revenue</th>\n",
       "    </tr>\n",
       "    <tr>\n",
       "      <th>date</th>\n",
       "      <th></th>\n",
       "    </tr>\n",
       "  </thead>\n",
       "  <tbody>\n",
       "    <tr>\n",
       "      <th>2011-01-29</th>\n",
       "      <td>7240.65</td>\n",
       "    </tr>\n",
       "    <tr>\n",
       "      <th>2011-01-30</th>\n",
       "      <td>6705.51</td>\n",
       "    </tr>\n",
       "    <tr>\n",
       "      <th>2011-01-31</th>\n",
       "      <td>4584.85</td>\n",
       "    </tr>\n",
       "    <tr>\n",
       "      <th>2011-02-01</th>\n",
       "      <td>4965.46</td>\n",
       "    </tr>\n",
       "    <tr>\n",
       "      <th>2011-02-02</th>\n",
       "      <td>4368.07</td>\n",
       "    </tr>\n",
       "    <tr>\n",
       "      <th>...</th>\n",
       "      <td>...</td>\n",
       "    </tr>\n",
       "    <tr>\n",
       "      <th>2016-04-20</th>\n",
       "      <td>6938.53</td>\n",
       "    </tr>\n",
       "    <tr>\n",
       "      <th>2016-04-21</th>\n",
       "      <td>6824.21</td>\n",
       "    </tr>\n",
       "    <tr>\n",
       "      <th>2016-04-22</th>\n",
       "      <td>8226.64</td>\n",
       "    </tr>\n",
       "    <tr>\n",
       "      <th>2016-04-23</th>\n",
       "      <td>10037.58</td>\n",
       "    </tr>\n",
       "    <tr>\n",
       "      <th>2016-04-24</th>\n",
       "      <td>11229.93</td>\n",
       "    </tr>\n",
       "  </tbody>\n",
       "</table>\n",
       "<p>1913 rows × 1 columns</p>\n",
       "</div>"
      ],
      "text/plain": [
       "             revenue\n",
       "date                \n",
       "2011-01-29   7240.65\n",
       "2011-01-30   6705.51\n",
       "2011-01-31   4584.85\n",
       "2011-02-01   4965.46\n",
       "2011-02-02   4368.07\n",
       "...              ...\n",
       "2016-04-20   6938.53\n",
       "2016-04-21   6824.21\n",
       "2016-04-22   8226.64\n",
       "2016-04-23  10037.58\n",
       "2016-04-24  11229.93\n",
       "\n",
       "[1913 rows x 1 columns]"
      ]
     },
     "execution_count": 20,
     "metadata": {},
     "output_type": "execute_result"
    }
   ],
   "source": [
    "#reading in the revenue_CA_1_FOODS_day time series csv\n",
    "revenue_CA_1_FOODS_day = pd.read_csv(\"revenue_CA_1_FOODS_day.csv\", index_col='date')\n",
    "#setting the index which was saved as a row back as the index\n",
    "\n",
    "#revenue_CA_1_FOODS_day.index=pd.to_datetime(revenue_CA_1_FOODS_day.index)\n",
    "\n",
    "revenue_CA_1_FOODS_day"
   ]
  },
  {
   "cell_type": "code",
   "execution_count": 21,
   "metadata": {},
   "outputs": [],
   "source": [
    "#Define training and testing data set\n",
    "#for dependent variables\n",
    "revenue_CA_1_FOODS_day_to_train = revenue_CA_1_FOODS_day.iloc[:(len(revenue_CA_1_FOODS_day)-31)]\n",
    "revenue_CA_1_FOODS_day_to_test = revenue_CA_1_FOODS_day.iloc[(len(revenue_CA_1_FOODS_day)-31):]"
   ]
  },
  {
   "cell_type": "code",
   "execution_count": 22,
   "metadata": {},
   "outputs": [
    {
     "data": {
      "text/plain": [
       "52.142857142857146"
      ]
     },
     "execution_count": 22,
     "metadata": {},
     "output_type": "execute_result"
    }
   ],
   "source": [
    "#every year (except leap year) is a bit longer that 52 weeks\n",
    "365/7"
   ]
  },
  {
   "cell_type": "code",
   "execution_count": 23,
   "metadata": {},
   "outputs": [
    {
     "data": {
      "text/plain": [
       "1.0000000000000213"
      ]
     },
     "execution_count": 23,
     "metadata": {},
     "output_type": "execute_result"
    }
   ],
   "source": [
    "from statsmodels.graphics.tsaplots import plot_acf#to be exact ever year has 52 weeks and about one day\n",
    "7*(365/7-52)\n",
    "#Thus to get the same weekday a year ago you have to go 366 days back"
   ]
  },
  {
   "cell_type": "code",
   "execution_count": 24,
   "metadata": {
    "scrolled": false
   },
   "outputs": [],
   "source": [
    "#Naive model: just use the value of the past years closest week day\n",
    "#create a vector of zeros in which ton input the 31 day naive forecasts\n",
    "data = np.zeros(31)\n",
    "#create the naive forecasting series with the index identical to the days to forecast which are the test data set index\n",
    "naive_forecast = pd.Series(data,index=revenue_CA_1_FOODS_day_to_test.index)\n",
    "#loop goes threw the complete data and gets forecasts\n",
    "#we take the length thus the last day\n",
    "#minus 365 to get a year back\n",
    "#then minus one to get the same week day of the past year\n",
    "#then an additional minus 1 as 2016 is a leap year\n",
    "#i runs from 0 to 30 so that the horizon we go back deminishes as we forecast further and further\n",
    "for i in range (0,31):\n",
    "    naive_forecast[i] = revenue_CA_1_FOODS_day.revenue[len(revenue_CA_1_FOODS_day)-(365+1+1-i)]\n",
    "    \n",
    "#Note: 2016 was a Leapyear (Schalkjahr)\n",
    "#Calenda: https://kalender-365.de/schaltjahre.php"
   ]
  },
  {
   "cell_type": "code",
   "execution_count": 25,
   "metadata": {},
   "outputs": [],
   "source": [
    "naive_forecast\n",
    "\n",
    "#creating a table with the forecasting evaluation metric values for all four models\n",
    "#each row contains the evaluation metrics for a model\n",
    "#the loop runs threw range of 3 as we have three metrics (0,1,2)\n",
    "fc_acc_naive=pd.DataFrame(index=['rmse', 'mae', 'r2'])\n",
    "fc_acc_naive[\"Additive\"]       = [eval_metrics(revenue_CA_1_FOODS_day_to_test, naive_forecast)[a] for a in range(0,3)]"
   ]
  },
  {
   "cell_type": "code",
   "execution_count": 26,
   "metadata": {},
   "outputs": [
    {
     "data": {
      "text/html": [
       "<div>\n",
       "<style scoped>\n",
       "    .dataframe tbody tr th:only-of-type {\n",
       "        vertical-align: middle;\n",
       "    }\n",
       "\n",
       "    .dataframe tbody tr th {\n",
       "        vertical-align: top;\n",
       "    }\n",
       "\n",
       "    .dataframe thead th {\n",
       "        text-align: right;\n",
       "    }\n",
       "</style>\n",
       "<table border=\"1\" class=\"dataframe\">\n",
       "  <thead>\n",
       "    <tr style=\"text-align: right;\">\n",
       "      <th></th>\n",
       "      <th>Additive</th>\n",
       "    </tr>\n",
       "  </thead>\n",
       "  <tbody>\n",
       "    <tr>\n",
       "      <th>rmse</th>\n",
       "      <td>817.391724</td>\n",
       "    </tr>\n",
       "    <tr>\n",
       "      <th>mae</th>\n",
       "      <td>587.930968</td>\n",
       "    </tr>\n",
       "    <tr>\n",
       "      <th>r2</th>\n",
       "      <td>0.787523</td>\n",
       "    </tr>\n",
       "  </tbody>\n",
       "</table>\n",
       "</div>"
      ],
      "text/plain": [
       "        Additive\n",
       "rmse  817.391724\n",
       "mae   587.930968\n",
       "r2      0.787523"
      ]
     },
     "execution_count": 26,
     "metadata": {},
     "output_type": "execute_result"
    }
   ],
   "source": [
    "fc_acc_naive\n",
    "#Naive model preforms better as it account for weekly and yearly seasonality and towards the end of the data set\n",
    "#which we forecast there is no trend\n",
    "#chekc if this month and its past year month has any speacial events\n",
    "\n",
    "#for i in range(0,31):\n",
    "#    print(i)"
   ]
  }
 ],
 "metadata": {
  "kernelspec": {
   "display_name": "Python 3",
   "language": "python",
   "name": "python3"
  },
  "language_info": {
   "codemirror_mode": {
    "name": "ipython",
    "version": 3
   },
   "file_extension": ".py",
   "mimetype": "text/x-python",
   "name": "python",
   "nbconvert_exporter": "python",
   "pygments_lexer": "ipython3",
   "version": "3.7.6"
  }
 },
 "nbformat": 4,
 "nbformat_minor": 4
}
